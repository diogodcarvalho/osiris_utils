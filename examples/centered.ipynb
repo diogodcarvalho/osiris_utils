{
 "cells": [
  {
   "cell_type": "code",
   "execution_count": 1,
   "metadata": {},
   "outputs": [],
   "source": [
    "import osiris_utils as ou\n",
    "import numpy as np"
   ]
  },
  {
   "cell_type": "code",
   "execution_count": 2,
   "metadata": {},
   "outputs": [],
   "source": [
    "def get_field_centered_1D(emf, field, i):\n",
    "    # center fields with moments\n",
    "    if field == \"e1\":\n",
    "        # Ex, avg along x\n",
    "        emf.data = 0.5 * (np.roll(emf.data, shift=1) + emf.data)\n",
    "    elif field == \"e2\":\n",
    "        # Ey is already centered\n",
    "        pass\n",
    "    elif field == \"e3\":\n",
    "        # Ez is already centered\n",
    "        pass\n",
    "    elif field == \"b1\":\n",
    "        # Bx is already centered\n",
    "        pass\n",
    "    elif field == \"b2\":\n",
    "        # By, avg along x\n",
    "        emf.data = 0.5 * (np.roll(emf.data, shift=1) + emf.data)\n",
    "    elif field == \"b3\":\n",
    "        # Bz, avg along x\n",
    "        emf.data = 0.5 * (np.roll(emf.data, shift=1) + emf.data)\n",
    "    else:\n",
    "        raise ValueError(f\"Invalid OSIRIS field requested - {field}\")\n",
    "    return emf\n",
    "\n",
    "\n",
    "def get_field_centered_2D(emf, field, i):\n",
    "    # center fields with moments\n",
    "    if field == \"e1\":\n",
    "        # Ex, avg along x\n",
    "        emf.data = 0.5 * (np.roll(emf.data, shift=1, axis=0) + emf.data)\n",
    "    elif field == \"e2\":\n",
    "        # Ey, avg along y\n",
    "        emf.data = 0.5 * (np.roll(emf.data, shift=1, axis=1) + emf.data)\n",
    "    elif field == \"e3\":\n",
    "        # Ez is already centered\n",
    "        pass\n",
    "    elif field == \"b1\":\n",
    "        # Bx, avg along y\n",
    "        emf.data = 0.5 * (np.roll(emf.data, shift=1, axis=0) + emf.data)\n",
    "    elif field == \"b2\":\n",
    "        # By, avg along x\n",
    "        emf.data = 0.5 * (np.roll(emf.data, shift=1, axis=1) + emf.data)\n",
    "    elif field == \"b3\":\n",
    "        # Bz, avg along x and y\n",
    "        emf.data = 0.5 * (np.roll(emf.data, shift=1, axis=0) + emf.data)\n",
    "        emf.data = 0.5 * (np.roll(emf.data, shift=1, axis=1) + emf.data)\n",
    "    else:\n",
    "        raise ValueError(f\"Invalid OSIRIS field requested - {field}\")\n",
    "    return emf"
   ]
  },
  {
   "cell_type": "code",
   "execution_count": 3,
   "metadata": {},
   "outputs": [],
   "source": [
    "e1_file = \"../../anomalous_resistivity/simulations/16ppc_2048_128/quantities/MS/FLD/e1/e1-000010.h5\"\n",
    "e2_file = \"../../anomalous_resistivity/simulations/16ppc_2048_128/quantities/MS/FLD/e2/e2-000010.h5\"\n",
    "e3_file = \"../../anomalous_resistivity/simulations/16ppc_2048_128/quantities/MS/FLD/e3/e3-000010.h5\"\n",
    "b1_file = \"../../anomalous_resistivity/simulations/16ppc_2048_128/quantities/MS/FLD/b1/b1-000010.h5\"\n",
    "b2_file = \"../../anomalous_resistivity/simulations/16ppc_2048_128/quantities/MS/FLD/b2/b2-000010.h5\"\n",
    "b3_file = \"../../anomalous_resistivity/simulations/16ppc_2048_128/quantities/MS/FLD/b3/b3-000010.h5\""
   ]
  },
  {
   "cell_type": "code",
   "execution_count": 4,
   "metadata": {},
   "outputs": [
    {
     "name": "stdout",
     "output_type": "stream",
     "text": [
      "(6, 2)\n",
      "[2.]\n",
      "[4. 4.]\n",
      "[4. 4.]\n"
     ]
    }
   ],
   "source": [
    "ex = np.array([[1, 3, 4, 5, 6, 7], [1, 3, 4, 5, 6, 7]]).T\n",
    "print(ex.shape)\n",
    "\n",
    "print(0.5 * (ex[1:, 1:] + ex[:-1, 1:])[0])\n",
    "print(0.5 * (np.roll(ex, shift=1, axis=0) + ex)[0])\n",
    "print(0.5 * (np.roll(ex, shift=1, axis=0) + ex)[0])"
   ]
  },
  {
   "cell_type": "code",
   "execution_count": 5,
   "metadata": {},
   "outputs": [],
   "source": [
    "E1 = ou.OsirisGridFile(e1_file)\n",
    "E2 = ou.OsirisGridFile(e2_file)\n",
    "E3 = ou.OsirisGridFile(e3_file)\n",
    "B1 = ou.OsirisGridFile(b1_file)\n",
    "B2 = ou.OsirisGridFile(b2_file)\n",
    "B3 = ou.OsirisGridFile(b3_file)"
   ]
  },
  {
   "cell_type": "code",
   "execution_count": 6,
   "metadata": {},
   "outputs": [],
   "source": [
    "e1_centered = E1.yeeToCellCorner(\"periodic\")\n",
    "e2_centered = E2.yeeToCellCorner(\"periodic\")\n",
    "e3_centered = E3.yeeToCellCorner(\"periodic\")\n",
    "b1_centered = B1.yeeToCellCorner(\"periodic\")\n",
    "b2_centered = B2.yeeToCellCorner(\"periodic\")\n",
    "b3_centered = B3.yeeToCellCorner(\"periodic\")\n",
    "\n",
    "e1_centered_closed = E1.yeeToCellCorner()\n",
    "e2_centered_closed = E2.yeeToCellCorner()\n",
    "e3_centered_closed = E3.yeeToCellCorner()\n",
    "b1_centered_closed = B1.yeeToCellCorner()\n",
    "b2_centered_closed = B2.yeeToCellCorner()\n",
    "b3_centered_closed = B3.yeeToCellCorner()\n",
    "\n",
    "e1_diogo = get_field_centered_2D(E1, \"e1\", 0)\n",
    "e2_diogo = get_field_centered_2D(E2, \"e2\", 0)\n",
    "e3_diogo = get_field_centered_2D(E3, \"e3\", 0)\n",
    "b1_diogo = get_field_centered_2D(B1, \"b1\", 0)\n",
    "b2_diogo = get_field_centered_2D(B2, \"b2\", 0)\n",
    "b3_diogo = get_field_centered_2D(B3, \"b3\", 0)"
   ]
  },
  {
   "cell_type": "code",
   "execution_count": 7,
   "metadata": {},
   "outputs": [
    {
     "name": "stdout",
     "output_type": "stream",
     "text": [
      "[ 0.03458649  0.03128735  0.02529619  0.01854978  0.01342598  0.01149054\n",
      "  0.01333074  0.01848257  0.02496792  0.02981126  0.03098587  0.02883802\n",
      "  0.02534253  0.02237793  0.02087452  0.02065565  0.02067512  0.02016273\n",
      "  0.01968213  0.02059621  0.02341781  0.02683432  0.02872049  0.02810384\n",
      "  0.02546852  0.02154223  0.01705721  0.01334994  0.01185821  0.01286658\n",
      "  0.01516956  0.0170348   0.01759266  0.0172657   0.01677537  0.01626622\n",
      "  0.01577597  0.01586755  0.01711276  0.01922034  0.02107123  0.02155213\n",
      "  0.02040036  0.01850039  0.01724755  0.01726089  0.01773707  0.01732572\n",
      "  0.01552743  0.01282758  0.00960719  0.00572643  0.00133597 -0.00277713\n",
      " -0.00612869 -0.00925742 -0.01286177 -0.01648667 -0.01892673 -0.01980212\n",
      " -0.01977489 -0.01955097 -0.01965585 -0.0205315  -0.02192483 -0.02285936\n",
      " -0.02271189 -0.02175154 -0.02066673 -0.02003923 -0.02012183 -0.02099362\n",
      " -0.02278924 -0.02516586 -0.02670487 -0.02589879 -0.02277245 -0.01868502\n",
      " -0.01465925 -0.01059315 -0.00597727 -0.00093241  0.00354902  0.00648569\n",
      "  0.00796881  0.00885909  0.00949454  0.00946807  0.00857991  0.00724344\n",
      "  0.00608331  0.00539967  0.00474987  0.00330269  0.00089366 -0.00154629\n",
      " -0.00244931 -0.00052574  0.00387352  0.00840832  0.01091841  0.01176396\n",
      "  0.01290564  0.01496527  0.01649314  0.01614011  0.01417445  0.01145074\n",
      "  0.00827575  0.00519672  0.00368558  0.00457554  0.00639115  0.0066235\n",
      "  0.00458775  0.00216987  0.00183653  0.00437827  0.00831882  0.01107227\n",
      "  0.01107003  0.00947644  0.00957725  0.0136705   0.0207124   0.02765076\n",
      "  0.03245306  0.03480905]\n",
      "**************************************************\n",
      "[ 0.03128735  0.02529619  0.01854978  0.01342598  0.01149054  0.01333074\n",
      "  0.01848257  0.02496792  0.02981126  0.03098587  0.02883802  0.02534253\n",
      "  0.02237793  0.02087452  0.02065565  0.02067512  0.02016273  0.01968213\n",
      "  0.02059621  0.02341781  0.02683432  0.02872049  0.02810384  0.02546852\n",
      "  0.02154223  0.01705721  0.01334994  0.01185821  0.01286658  0.01516956\n",
      "  0.0170348   0.01759266  0.0172657   0.01677537  0.01626622  0.01577597\n",
      "  0.01586755  0.01711276  0.01922034  0.02107123  0.02155213  0.02040036\n",
      "  0.01850039  0.01724756  0.01726089  0.01773707  0.01732572  0.01552743\n",
      "  0.01282758  0.00960719  0.00572643  0.00133597 -0.00277713 -0.00612869\n",
      " -0.00925742 -0.01286177 -0.01648667 -0.01892673 -0.01980212 -0.01977489\n",
      " -0.01955097 -0.01965585 -0.0205315  -0.02192483 -0.02285936 -0.02271189\n",
      " -0.02175154 -0.02066673 -0.02003923 -0.02012183 -0.02099362 -0.02278924\n",
      " -0.02516586 -0.02670487 -0.02589879 -0.02277245 -0.01868502 -0.01465925\n",
      " -0.01059315 -0.00597727 -0.00093241  0.00354902  0.00648569  0.00796881\n",
      "  0.00885909  0.00949454  0.00946807  0.00857991  0.00724344  0.00608331\n",
      "  0.00539967  0.00474987  0.00330269  0.00089366 -0.00154629 -0.00244931\n",
      " -0.00052574  0.00387352  0.00840832  0.01091841  0.01176396  0.01290564\n",
      "  0.01496527  0.01649314  0.01614011  0.01417445  0.01145074  0.00827575\n",
      "  0.00519672  0.00368558  0.00457554  0.00639115  0.0066235   0.00458775\n",
      "  0.00216987  0.00183653  0.00437827  0.00831882  0.01107227  0.01107003\n",
      "  0.00947644  0.00957725  0.0136705   0.0207124   0.02765075  0.03245306\n",
      "  0.03480905]\n",
      "**************************************************\n",
      "[ 0.03458649  0.03128735  0.02529619  0.01854978  0.01342598  0.01149054\n",
      "  0.01333074  0.01848257  0.02496792  0.02981126  0.03098587  0.02883802\n",
      "  0.02534253  0.02237793  0.02087452  0.02065565  0.02067512  0.02016273\n",
      "  0.01968213  0.02059621  0.02341781  0.02683432  0.02872049  0.02810384\n",
      "  0.02546852  0.02154223  0.01705721  0.01334994  0.01185821  0.01286658\n",
      "  0.01516956  0.0170348   0.01759266  0.0172657   0.01677537  0.01626622\n",
      "  0.01577597  0.01586755  0.01711276  0.01922034  0.02107123  0.02155213\n",
      "  0.02040036  0.01850039  0.01724755  0.01726089  0.01773707  0.01732572\n",
      "  0.01552743  0.01282758  0.00960719  0.00572643  0.00133597 -0.00277713\n",
      " -0.00612869 -0.00925742 -0.01286177 -0.01648667 -0.01892673 -0.01980212\n",
      " -0.01977489 -0.01955097 -0.01965585 -0.0205315  -0.02192483 -0.02285936\n",
      " -0.02271189 -0.02175154 -0.02066673 -0.02003923 -0.02012183 -0.02099362\n",
      " -0.02278924 -0.02516586 -0.02670487 -0.02589879 -0.02277245 -0.01868502\n",
      " -0.01465925 -0.01059315 -0.00597727 -0.00093241  0.00354902  0.00648569\n",
      "  0.00796881  0.00885909  0.00949454  0.00946807  0.00857991  0.00724344\n",
      "  0.00608331  0.00539967  0.00474987  0.00330269  0.00089366 -0.00154629\n",
      " -0.00244931 -0.00052574  0.00387352  0.00840832  0.01091841  0.01176396\n",
      "  0.01290564  0.01496527  0.01649314  0.01614011  0.01417445  0.01145074\n",
      "  0.00827575  0.00519672  0.00368558  0.00457554  0.00639115  0.0066235\n",
      "  0.00458775  0.00216987  0.00183653  0.00437827  0.00831882  0.01107227\n",
      "  0.01107003  0.00947644  0.00957725  0.0136705   0.0207124   0.02765076\n",
      "  0.03245306  0.03480905]\n"
     ]
    }
   ],
   "source": [
    "print(b3_centered[1])\n",
    "print(\"*\"*50)\n",
    "print(b3_centered_closed[0])\n",
    "print(\"*\"*50)\n",
    "print(b3_diogo.data[1])"
   ]
  },
  {
   "cell_type": "code",
   "execution_count": null,
   "metadata": {},
   "outputs": [],
   "source": []
  },
  {
   "cell_type": "code",
   "execution_count": 8,
   "metadata": {},
   "outputs": [
    {
     "ename": "FileNotFoundError",
     "evalue": "e1_centered.txt not found.",
     "output_type": "error",
     "traceback": [
      "\u001b[0;31m---------------------------------------------------------------------------\u001b[0m",
      "\u001b[0;31mFileNotFoundError\u001b[0m                         Traceback (most recent call last)",
      "Cell \u001b[0;32mIn[8], line 1\u001b[0m\n\u001b[0;32m----> 1\u001b[0m e1_try \u001b[38;5;241m=\u001b[39m \u001b[43mnp\u001b[49m\u001b[38;5;241;43m.\u001b[39;49m\u001b[43mloadtxt\u001b[49m\u001b[43m(\u001b[49m\u001b[38;5;124;43m\"\u001b[39;49m\u001b[38;5;124;43me1_centered.txt\u001b[39;49m\u001b[38;5;124;43m\"\u001b[39;49m\u001b[43m)\u001b[49m\n",
      "File \u001b[0;32m~/miniconda3/envs/tese-env/lib/python3.12/site-packages/numpy/lib/_npyio_impl.py:1395\u001b[0m, in \u001b[0;36mloadtxt\u001b[0;34m(fname, dtype, comments, delimiter, converters, skiprows, usecols, unpack, ndmin, encoding, max_rows, quotechar, like)\u001b[0m\n\u001b[1;32m   1392\u001b[0m \u001b[38;5;28;01mif\u001b[39;00m \u001b[38;5;28misinstance\u001b[39m(delimiter, \u001b[38;5;28mbytes\u001b[39m):\n\u001b[1;32m   1393\u001b[0m     delimiter \u001b[38;5;241m=\u001b[39m delimiter\u001b[38;5;241m.\u001b[39mdecode(\u001b[38;5;124m'\u001b[39m\u001b[38;5;124mlatin1\u001b[39m\u001b[38;5;124m'\u001b[39m)\n\u001b[0;32m-> 1395\u001b[0m arr \u001b[38;5;241m=\u001b[39m \u001b[43m_read\u001b[49m\u001b[43m(\u001b[49m\u001b[43mfname\u001b[49m\u001b[43m,\u001b[49m\u001b[43m \u001b[49m\u001b[43mdtype\u001b[49m\u001b[38;5;241;43m=\u001b[39;49m\u001b[43mdtype\u001b[49m\u001b[43m,\u001b[49m\u001b[43m \u001b[49m\u001b[43mcomment\u001b[49m\u001b[38;5;241;43m=\u001b[39;49m\u001b[43mcomment\u001b[49m\u001b[43m,\u001b[49m\u001b[43m \u001b[49m\u001b[43mdelimiter\u001b[49m\u001b[38;5;241;43m=\u001b[39;49m\u001b[43mdelimiter\u001b[49m\u001b[43m,\u001b[49m\n\u001b[1;32m   1396\u001b[0m \u001b[43m            \u001b[49m\u001b[43mconverters\u001b[49m\u001b[38;5;241;43m=\u001b[39;49m\u001b[43mconverters\u001b[49m\u001b[43m,\u001b[49m\u001b[43m \u001b[49m\u001b[43mskiplines\u001b[49m\u001b[38;5;241;43m=\u001b[39;49m\u001b[43mskiprows\u001b[49m\u001b[43m,\u001b[49m\u001b[43m \u001b[49m\u001b[43musecols\u001b[49m\u001b[38;5;241;43m=\u001b[39;49m\u001b[43musecols\u001b[49m\u001b[43m,\u001b[49m\n\u001b[1;32m   1397\u001b[0m \u001b[43m            \u001b[49m\u001b[43munpack\u001b[49m\u001b[38;5;241;43m=\u001b[39;49m\u001b[43munpack\u001b[49m\u001b[43m,\u001b[49m\u001b[43m \u001b[49m\u001b[43mndmin\u001b[49m\u001b[38;5;241;43m=\u001b[39;49m\u001b[43mndmin\u001b[49m\u001b[43m,\u001b[49m\u001b[43m \u001b[49m\u001b[43mencoding\u001b[49m\u001b[38;5;241;43m=\u001b[39;49m\u001b[43mencoding\u001b[49m\u001b[43m,\u001b[49m\n\u001b[1;32m   1398\u001b[0m \u001b[43m            \u001b[49m\u001b[43mmax_rows\u001b[49m\u001b[38;5;241;43m=\u001b[39;49m\u001b[43mmax_rows\u001b[49m\u001b[43m,\u001b[49m\u001b[43m \u001b[49m\u001b[43mquote\u001b[49m\u001b[38;5;241;43m=\u001b[39;49m\u001b[43mquotechar\u001b[49m\u001b[43m)\u001b[49m\n\u001b[1;32m   1400\u001b[0m \u001b[38;5;28;01mreturn\u001b[39;00m arr\n",
      "File \u001b[0;32m~/miniconda3/envs/tese-env/lib/python3.12/site-packages/numpy/lib/_npyio_impl.py:1022\u001b[0m, in \u001b[0;36m_read\u001b[0;34m(fname, delimiter, comment, quote, imaginary_unit, usecols, skiplines, max_rows, converters, ndmin, unpack, dtype, encoding)\u001b[0m\n\u001b[1;32m   1020\u001b[0m     fname \u001b[38;5;241m=\u001b[39m os\u001b[38;5;241m.\u001b[39mfspath(fname)\n\u001b[1;32m   1021\u001b[0m \u001b[38;5;28;01mif\u001b[39;00m \u001b[38;5;28misinstance\u001b[39m(fname, \u001b[38;5;28mstr\u001b[39m):\n\u001b[0;32m-> 1022\u001b[0m     fh \u001b[38;5;241m=\u001b[39m \u001b[43mnp\u001b[49m\u001b[38;5;241;43m.\u001b[39;49m\u001b[43mlib\u001b[49m\u001b[38;5;241;43m.\u001b[39;49m\u001b[43m_datasource\u001b[49m\u001b[38;5;241;43m.\u001b[39;49m\u001b[43mopen\u001b[49m\u001b[43m(\u001b[49m\u001b[43mfname\u001b[49m\u001b[43m,\u001b[49m\u001b[43m \u001b[49m\u001b[38;5;124;43m'\u001b[39;49m\u001b[38;5;124;43mrt\u001b[39;49m\u001b[38;5;124;43m'\u001b[39;49m\u001b[43m,\u001b[49m\u001b[43m \u001b[49m\u001b[43mencoding\u001b[49m\u001b[38;5;241;43m=\u001b[39;49m\u001b[43mencoding\u001b[49m\u001b[43m)\u001b[49m\n\u001b[1;32m   1023\u001b[0m     \u001b[38;5;28;01mif\u001b[39;00m encoding \u001b[38;5;129;01mis\u001b[39;00m \u001b[38;5;28;01mNone\u001b[39;00m:\n\u001b[1;32m   1024\u001b[0m         encoding \u001b[38;5;241m=\u001b[39m \u001b[38;5;28mgetattr\u001b[39m(fh, \u001b[38;5;124m'\u001b[39m\u001b[38;5;124mencoding\u001b[39m\u001b[38;5;124m'\u001b[39m, \u001b[38;5;124m'\u001b[39m\u001b[38;5;124mlatin1\u001b[39m\u001b[38;5;124m'\u001b[39m)\n",
      "File \u001b[0;32m~/miniconda3/envs/tese-env/lib/python3.12/site-packages/numpy/lib/_datasource.py:192\u001b[0m, in \u001b[0;36mopen\u001b[0;34m(path, mode, destpath, encoding, newline)\u001b[0m\n\u001b[1;32m    155\u001b[0m \u001b[38;5;250m\u001b[39m\u001b[38;5;124;03m\"\"\"\u001b[39;00m\n\u001b[1;32m    156\u001b[0m \u001b[38;5;124;03mOpen `path` with `mode` and return the file object.\u001b[39;00m\n\u001b[1;32m    157\u001b[0m \n\u001b[0;32m   (...)\u001b[0m\n\u001b[1;32m    188\u001b[0m \n\u001b[1;32m    189\u001b[0m \u001b[38;5;124;03m\"\"\"\u001b[39;00m\n\u001b[1;32m    191\u001b[0m ds \u001b[38;5;241m=\u001b[39m DataSource(destpath)\n\u001b[0;32m--> 192\u001b[0m \u001b[38;5;28;01mreturn\u001b[39;00m \u001b[43mds\u001b[49m\u001b[38;5;241;43m.\u001b[39;49m\u001b[43mopen\u001b[49m\u001b[43m(\u001b[49m\u001b[43mpath\u001b[49m\u001b[43m,\u001b[49m\u001b[43m \u001b[49m\u001b[43mmode\u001b[49m\u001b[43m,\u001b[49m\u001b[43m \u001b[49m\u001b[43mencoding\u001b[49m\u001b[38;5;241;43m=\u001b[39;49m\u001b[43mencoding\u001b[49m\u001b[43m,\u001b[49m\u001b[43m \u001b[49m\u001b[43mnewline\u001b[49m\u001b[38;5;241;43m=\u001b[39;49m\u001b[43mnewline\u001b[49m\u001b[43m)\u001b[49m\n",
      "File \u001b[0;32m~/miniconda3/envs/tese-env/lib/python3.12/site-packages/numpy/lib/_datasource.py:529\u001b[0m, in \u001b[0;36mDataSource.open\u001b[0;34m(self, path, mode, encoding, newline)\u001b[0m\n\u001b[1;32m    526\u001b[0m     \u001b[38;5;28;01mreturn\u001b[39;00m _file_openers[ext](found, mode\u001b[38;5;241m=\u001b[39mmode,\n\u001b[1;32m    527\u001b[0m                               encoding\u001b[38;5;241m=\u001b[39mencoding, newline\u001b[38;5;241m=\u001b[39mnewline)\n\u001b[1;32m    528\u001b[0m \u001b[38;5;28;01melse\u001b[39;00m:\n\u001b[0;32m--> 529\u001b[0m     \u001b[38;5;28;01mraise\u001b[39;00m \u001b[38;5;167;01mFileNotFoundError\u001b[39;00m(\u001b[38;5;124mf\u001b[39m\u001b[38;5;124m\"\u001b[39m\u001b[38;5;132;01m{\u001b[39;00mpath\u001b[38;5;132;01m}\u001b[39;00m\u001b[38;5;124m not found.\u001b[39m\u001b[38;5;124m\"\u001b[39m)\n",
      "\u001b[0;31mFileNotFoundError\u001b[0m: e1_centered.txt not found."
     ]
    }
   ],
   "source": [
    "e1_try = np.loadtxt(\"e1_centered.txt\")"
   ]
  },
  {
   "cell_type": "code",
   "execution_count": null,
   "metadata": {},
   "outputs": [],
   "source": []
  }
 ],
 "metadata": {
  "kernelspec": {
   "display_name": "tese-env",
   "language": "python",
   "name": "python3"
  },
  "language_info": {
   "codemirror_mode": {
    "name": "ipython",
    "version": 3
   },
   "file_extension": ".py",
   "mimetype": "text/x-python",
   "name": "python",
   "nbconvert_exporter": "python",
   "pygments_lexer": "ipython3",
   "version": "3.12.8"
  }
 },
 "nbformat": 4,
 "nbformat_minor": 2
}
