{
 "cells": [
  {
   "cell_type": "code",
   "execution_count": 1,
   "metadata": {},
   "outputs": [],
   "source": [
    "import osiris_utils as ou\n",
    "import numpy as np"
   ]
  },
  {
   "cell_type": "code",
   "execution_count": 2,
   "metadata": {},
   "outputs": [],
   "source": [
    "e1_file = \"../../anomalous_resistivity/simulations/16ppc_2048_128/quantities/MS/FLD/e1/e1-000010.h5\"\n",
    "e2_file = \"../../anomalous_resistivity/simulations/16ppc_2048_128/quantities/MS/FLD/e2/e2-000010.h5\"\n",
    "e3_file = \"../../anomalous_resistivity/simulations/16ppc_2048_128/quantities/MS/FLD/e3/e3-000010.h5\"\n",
    "b1_file = \"../../anomalous_resistivity/simulations/16ppc_2048_128/quantities/MS/FLD/b1/b1-000010.h5\"\n",
    "b2_file = \"../../anomalous_resistivity/simulations/16ppc_2048_128/quantities/MS/FLD/b2/b2-000010.h5\"\n",
    "b3_file = \"../../anomalous_resistivity/simulations/16ppc_2048_128/quantities/MS/FLD/b3/b3-000010.h5\""
   ]
  },
  {
   "cell_type": "code",
   "execution_count": 3,
   "metadata": {},
   "outputs": [],
   "source": [
    "E1 = ou.OsirisGridFile(e1_file)\n",
    "E2 = ou.OsirisGridFile(e2_file)\n",
    "E3 = ou.OsirisGridFile(e3_file)\n",
    "B1 = ou.OsirisGridFile(b1_file)\n",
    "B2 = ou.OsirisGridFile(b2_file)\n",
    "B3 = ou.OsirisGridFile(b3_file)"
   ]
  },
  {
   "cell_type": "code",
   "execution_count": 4,
   "metadata": {},
   "outputs": [],
   "source": [
    "e1_centered = E1.yeeToCellCorner()\n",
    "e2_centered = E2.yeeToCellCorner()\n",
    "e3_centered = E3.yeeToCellCorner()\n",
    "b1_centered = B1.yeeToCellCorner()\n",
    "b2_centered = B2.yeeToCellCorner()\n",
    "b3_centered = B3.yeeToCellCorner()"
   ]
  },
  {
   "cell_type": "code",
   "execution_count": 6,
   "metadata": {},
   "outputs": [],
   "source": [
    "# save in txt files\n",
    "np.savetxt(\"e1_centered.txt\", e1_centered)\n",
    "np.savetxt(\"e2_centered.txt\", e2_centered)\n",
    "np.savetxt(\"e3_centered.txt\", e3_centered)\n",
    "np.savetxt(\"b1_centered.txt\", b1_centered)\n",
    "np.savetxt(\"b2_centered.txt\", b2_centered)\n",
    "np.savetxt(\"b3_centered.txt\", b3_centered)"
   ]
  },
  {
   "cell_type": "code",
   "execution_count": 7,
   "metadata": {},
   "outputs": [],
   "source": [
    "e1_try = np.loadtxt(\"e1_centered.txt\")"
   ]
  },
  {
   "cell_type": "code",
   "execution_count": null,
   "metadata": {},
   "outputs": [],
   "source": []
  }
 ],
 "metadata": {
  "kernelspec": {
   "display_name": "tese-env",
   "language": "python",
   "name": "python3"
  },
  "language_info": {
   "codemirror_mode": {
    "name": "ipython",
    "version": 3
   },
   "file_extension": ".py",
   "mimetype": "text/x-python",
   "name": "python",
   "nbconvert_exporter": "python",
   "pygments_lexer": "ipython3",
   "version": "3.12.8"
  }
 },
 "nbformat": 4,
 "nbformat_minor": 2
}
